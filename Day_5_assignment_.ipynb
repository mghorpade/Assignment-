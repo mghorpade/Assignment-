{
  "nbformat": 4,
  "nbformat_minor": 0,
  "metadata": {
    "colab": {
      "provenance": [],
      "authorship_tag": "ABX9TyNN7EmKbiH85o6/lhDmdr7b",
      "include_colab_link": true
    },
    "kernelspec": {
      "name": "python3",
      "display_name": "Python 3"
    },
    "language_info": {
      "name": "python"
    }
  },
  "cells": [
    {
      "cell_type": "markdown",
      "metadata": {
        "id": "view-in-github",
        "colab_type": "text"
      },
      "source": [
        "<a href=\"https://colab.research.google.com/github/mghorpade/Assignment-/blob/main/Day_5_assignment_.ipynb\" target=\"_parent\"><img src=\"https://colab.research.google.com/assets/colab-badge.svg\" alt=\"Open In Colab\"/></a>"
      ]
    },
    {
      "cell_type": "code",
      "execution_count": null,
      "metadata": {
        "colab": {
          "base_uri": "https://localhost:8080/"
        },
        "id": "P79UTvVgcFly",
        "outputId": "181a5387-f746-4db2-c040-7c7881289ce3"
      },
      "outputs": [
        {
          "output_type": "stream",
          "name": "stdout",
          "text": [
            "enter your number : 25\n",
            "Buzz\n"
          ]
        }
      ],
      "source": [
        "num = int(input('enter your number : '))\n",
        "\n",
        "if num % 3 == 0 and num % 5 == 0:\n",
        "   print('FizzBuzz')\n",
        "\n",
        "elif num % 3 == 0:\n",
        "   print('Fizz')\n",
        "\n",
        "elif num % 5 == 0:\n",
        "   print('Buzz')\n",
        "\n",
        "else:\n",
        "   print(num)"
      ]
    }
  ]
}
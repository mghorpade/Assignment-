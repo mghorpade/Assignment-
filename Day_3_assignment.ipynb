{
  "nbformat": 4,
  "nbformat_minor": 0,
  "metadata": {
    "colab": {
      "provenance": [],
      "authorship_tag": "ABX9TyOnj6dlkpLi3m9Qb2Zue+kJ",
      "include_colab_link": true
    },
    "kernelspec": {
      "name": "python3",
      "display_name": "Python 3"
    },
    "language_info": {
      "name": "python"
    }
  },
  "cells": [
    {
      "cell_type": "markdown",
      "metadata": {
        "id": "view-in-github",
        "colab_type": "text"
      },
      "source": [
        "<a href=\"https://colab.research.google.com/github/mghorpade/Assignment-/blob/main/Day_3_assignment.ipynb\" target=\"_parent\"><img src=\"https://colab.research.google.com/assets/colab-badge.svg\" alt=\"Open In Colab\"/></a>"
      ]
    },
    {
      "cell_type": "code",
      "execution_count": 7,
      "metadata": {
        "id": "d8-te9nUPmb5",
        "colab": {
          "base_uri": "https://localhost:8080/"
        },
        "outputId": "0f2f2fde-99f3-4864-bb21-0b37bb724d16"
      },
      "outputs": [
        {
          "output_type": "stream",
          "name": "stdout",
          "text": [
            "Enter the your age: 65\n",
            "You are a senior\n"
          ]
        }
      ],
      "source": [
        "Age = int(input(\"Enter the your age: \"))\n",
        "\n",
        "if Age < 18 :\n",
        "  print(\"You are a minor\")\n",
        "elif Age >= 18 and Age < 65 :\n",
        "  print(\"Yor are an adult\")\n",
        "else:\n",
        "  print(\"You are a senior\")\n"
      ]
    }
  ]
}